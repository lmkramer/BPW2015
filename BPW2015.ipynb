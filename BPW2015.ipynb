{
 "metadata": {
  "kernelspec": {
   "display_name": "Julia 0.3.7",
   "language": "julia",
   "name": "julia 0.3"
  },
  "language": "Julia",
  "language_info": {
   "name": "julia",
   "version": "0.3.7"
  },
  "name": "",
  "signature": "sha256:db6fc01d2ae1f63da6041760655807892e17caf8d5edb7225bd969bd4e8c1e5c"
 },
 "nbformat": 3,
 "nbformat_minor": 0,
 "worksheets": [
  {
   "cells": [
    {
     "cell_type": "markdown",
     "metadata": {},
     "source": [
      "##Course 2\n",
      "\n",
      "###Design of Breeding Programs with Genomic Selection\n",
      "\n",
      "###May 18-22, 2015\n",
      "\n",
      "###Course Instructor:\n",
      "* Julius van der Werf\n",
      "* Jack Dekkers\n",
      "\n",
      "###Topics Covered:\n",
      "*   Factors affecting and prediction of single and multi-trait response to selection\n",
      "*\tIncorporating genomic information in response predictions.\n",
      "*\tInbreeding with and without genomic information.\n",
      "*\tDesign of breeding programs to exploit the use of genomic information, including the design of phenotyping strategies.\n",
      "\n",
      "\n",
      "###Prerequisites:        \n",
      "* Graduate-level course in quantitative genetics.\n",
      "* Graduate-level course in statistics."
     ]
    },
    {
     "cell_type": "markdown",
     "metadata": {},
     "source": [
      "###Materials:\n",
      "#### Notes:"
     ]
    },
    {
     "cell_type": "markdown",
     "metadata": {},
     "source": [
      "* Day 1:\n",
      "\n",
      " * [Notes](day1/Archive.zip)\n",
      " * [Slides](day1/Simple_Linear_Models.pdf)\n",
      " * [Exercise](day1/SimulationJulia.pdf)"
     ]
    },
    {
     "cell_type": "markdown",
     "metadata": {},
     "source": [
      "* Day 2:\n",
      "\n",
      " * [Notes](day2/Introduction.pdf)\n",
      " * [Slides](day2/Simple_Linear_Models.pdf)\n",
      " * [Exercise](day2/SimulationJulia.pdf)"
     ]
    },
    {
     "cell_type": "markdown",
     "metadata": {},
     "source": [
      "* Day 3:\n",
      "\n",
      " * [Notes](day3/Introduction.pdf)\n",
      " * [Slides](day3/Simple_Linear_Models.pdf)\n",
      " * [Exercise](day3/SimulationJulia.pdf)"
     ]
    },
    {
     "cell_type": "markdown",
     "metadata": {},
     "source": [
      "* Day 4:\n",
      "\n",
      " * [Notes](day4/Introduction.pdf)\n",
      " * [Slides](day4/Simple_Linear_Models.pdf)\n",
      " * [Exercise](day4/SimulationJulia.pdf)"
     ]
    },
    {
     "cell_type": "markdown",
     "metadata": {},
     "source": [
      "* Day 5:\n",
      "\n",
      " * [Notes](day5/Introduction.pdf)\n",
      " * [Slides](day5/Simple_Linear_Models.pdf)\n",
      " * [Exercise](day5/SimulationJulia.pdf)"
     ]
    }
   ],
   "metadata": {}
  }
 ]
}