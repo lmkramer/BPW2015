{
 "metadata": {
  "kernelspec": {
   "display_name": "Julia 0.3.7",
   "language": "julia",
   "name": "julia 0.3"
  },
  "language": "Julia",
  "language_info": {
   "name": "julia",
   "version": "0.3.7"
  },
  "name": "",
  "signature": "sha256:452ace337e8fda440d4671b2633bc01694db0bb1b297adb3e7490bb388dda630"
 },
 "nbformat": 3,
 "nbformat_minor": 0,
 "worksheets": [
  {
   "cells": [
    {
     "cell_type": "markdown",
     "metadata": {},
     "source": [
      "##Course 2\n",
      "\n",
      "###Design of Breeding Programs with Genomic Selection\n",
      "\n",
      "###May 18-22, 2015\n",
      "\n",
      "###Course Instructor:\n",
      "* Julius van der Werf\n",
      "* Jack Dekkers\n",
      "\n",
      "###Topics Covered:\n",
      "*   Factors affecting and prediction of single and multi-trait response to selection\n",
      "*\tIncorporating genomic information in response predictions.\n",
      "*\tInbreeding with and without genomic information.\n",
      "*\tDesign of breeding programs to exploit the use of genomic information, including the design of phenotyping strategies.\n",
      "\n",
      "*   [Overview](WebProgram Iowa2015.docx)\n",
      "\n",
      "\n",
      "###Prerequisites:        \n",
      "* Graduate-level course in quantitative genetics.\n",
      "* Graduate-level course in statistics."
     ]
    },
    {
     "cell_type": "markdown",
     "metadata": {},
     "source": [
      "###Materials:\n",
      "#### Notes:"
     ]
    },
    {
     "cell_type": "markdown",
     "metadata": {},
     "source": [
      "* Day 1:\n",
      "\n",
      " * Notes\n",
      "     * [Selection Notes](day1/Notes/Selection_notes.pdf)\n",
      "     \n",
      " * Slides\n",
      "     * [Building Blocks of Quantitative Genetics](day1/Slides/Day1aBuildingBlocks.pdf)\n",
      "     * [Improving Selection Accuracy, BLUP selection](day1/Slides/Day1bEBVacc.pdf)\n",
      "     * [Selection Theory 1: Change of mean](day1/Slides/Day1cSelectionResp.pdf)\n",
      "     * [Selection Theory 2: Change of variance](day1/Slides/Day1dVariance.pdf)\n",
      " * Exercises\n",
      "     * [Exercise Day 1](day1/Exercises/Day1Exercises.doc)\n",
      "     * [Exercise Instructions](day1/Exercises/Day1Exercises.pdf)"
     ]
    },
    {
     "cell_type": "markdown",
     "metadata": {},
     "source": [
      "* Day 2:\n",
      "\n",
      " * Notes\n",
      "     * [MT Selection](Day2/Notes/Day2a MT Selection.pdf)\n",
      "     * [MT Indexes Multistage Selection](Day2/Notes/Day2b MT indexes Multistage selection.pdf)\n",
      " * Slides\n",
      "     * [Multiple Trait Selection](Day2/Slides/Day2aMultiTrait.pdf)\n",
      "     * [Two-Stage Selection](Day2/Slides/Day2bMultipleStageSelection.pdf)\n",
      " * Exercise"
     ]
    },
    {
     "cell_type": "markdown",
     "metadata": {},
     "source": [
      "* Day 3:\n",
      "\n",
      " * Notes\n",
      "    * [Overview of Breeding Programs](Day3/Notes/Day3a Overview of breeding programs_FINAL.pdf)\n",
      "    * [Inbreeding Notes](Day3/Notes/Day3b Inbreeding_notes.pdf)\n",
      "    * [BPDesign](Day3/Notes/Day3c BPDesign.pdf)\n",
      "    * [Cost Benefit](Day3/Notes/Day3e CostBenefitBrPro.pdf)\n",
      "    * [Market Share](Day3/Notes/day 3f Marketshare.pdf)\n",
      " * Slides\n",
      "     * [Design of Breeding programs \u2013 overview](Day3/Slides/Day3a DesignofBP.pdf)\n",
      "     * [Inbreeding](Day3/Slides/Day3b Inbreeding.pdf) \n",
      "     * [Optimal Contribution Selection](Day3/Slides/Day3c OCS.pdf)\n",
      "     * [Optimizing Breeding Program Design](Day3/Slides/Day3d OptBP.pdf)\n",
      "     * [Economic Evaluation of breeding programs](Day3/Slides/Day3e EvaluationBP.pdf)\n",
      "     * [Cost Benefit analysis in competitive markets](Day3/Slides/Day3f Marketshare.pdf)\n",
      " * Exercise"
     ]
    },
    {
     "cell_type": "markdown",
     "metadata": {},
     "source": [
      "* Day 4:\n",
      "\n",
      "* Notes\n",
      "    * [MAS GEBV index](Day#/Notes/Day4a MAS-GEBV index notes.pdf)\n",
      "    * [Genomic Control of Inbreeding](Day#/Notes/Day4b Genomic Control of Inbreeding.pdf)\n",
      "* Slides\n",
      "     * [Accuracy of genomic prediction](Day#/Slides/Day4aAccuracyofGP.pdf)\n",
      "     * [GBVs in Genetic Evaluation](Day#/Slides/Day4b GS selection index.pdf)\n",
      "     * [Genomic control of Inbreeding](Day#/Slides/Day4c GenomicControlInbreeding.pdf)\n",
      "     * [Genomic selection in crossbreeding programs](Day#/Slides/Day4d crossbreeding.pdf)\n",
      " * [Exercise](day4/SimulationJulia.pdf)"
     ]
    },
    {
     "cell_type": "markdown",
     "metadata": {},
     "source": [
      "* Day 5:\n",
      "\n",
      "* Notes\n",
      "    * [Design of Sheep Population](Day#/Notes/Day5f Design of a sheepreference population for GS.pdf)\n",
      "* Slides\n",
      "     * [Cost-benefit of genomics in breeding programs](Day#/Slides/Day5a CostBenefitGS.pdf)\n",
      "     * [Design of reference populations](Day#/Slides/Day5b DesignofRefPop.pdf)\n",
      "     * [Use of Genomic Selection in Sheep](Day#/Slides/Day5h GSinSheep.pdf)\n",
      " * [Exercise](day5/SimulationJulia.pdf)"
     ]
    },
    {
     "cell_type": "markdown",
     "metadata": {},
     "source": [
      "##Spreadsheets for Course\n",
      "[Spreadsheets](BPW2015_Spreadsheets.ipynb)"
     ]
    }
   ],
   "metadata": {}
  }
 ]
}