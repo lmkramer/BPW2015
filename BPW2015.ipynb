{
 "metadata": {
  "kernelspec": {
   "display_name": "Julia 0.3.7",
   "language": "julia",
   "name": "julia 0.3"
  },
  "language": "Julia",
  "language_info": {
   "name": "julia",
   "version": "0.3.7"
  },
  "name": "",
  "signature": "sha256:b3d2ce5b7b76e7bc431493d0416e570674cdac6df32f790c654c51814580d4c9"
 },
 "nbformat": 3,
 "nbformat_minor": 0,
 "worksheets": [
  {
   "cells": [
    {
     "cell_type": "markdown",
     "metadata": {},
     "source": [
      "##Course 2\n",
      "\n",
      "###Design of Breeding Programs with Genomic Selection\n",
      "\n",
      "###May 18-22, 2015\n",
      "\n",
      "###Course Instructor:\n",
      "* Julius van der Werf\n",
      "* Jack Dekkers\n",
      "\n",
      "###Topics Covered:\n",
      "*   Factors affecting and prediction of single and multi-trait response to selection\n",
      "*\tIncorporating genomic information in response predictions.\n",
      "*\tInbreeding with and without genomic information.\n",
      "*\tDesign of breeding programs to exploit the use of genomic information, including the design of phenotyping strategies.\n",
      "\n",
      "*   [Overview](WebProgram Iowa2015.docx)\n",
      "\n",
      "\n",
      "###Prerequisites:        \n",
      "* Graduate-level course in quantitative genetics.\n",
      "* Graduate-level course in statistics."
     ]
    },
    {
     "cell_type": "markdown",
     "metadata": {},
     "source": [
      "###Materials:\n",
      "#### Notes:"
     ]
    },
    {
     "cell_type": "markdown",
     "metadata": {},
     "source": [
      "* Day 1:\n",
      "\n",
      " * Notes\n",
      "     * [Selection Notes](day1/Notes/Selection_notes.pdf)\n",
      "     * [Building Blocks R](day1/Notes/Day 1a Building Blocks R.pdf)\n",
      "     \n",
      " * Slides\n",
      "     * [Building Blocks of Quantitative Genetics](day1/Slides/Day1aBuildingBlocks.pdf)\n",
      "     * [Improving Selection Accuracy, BLUP selection](day1/Slides/Day1bEBVacc.pdf)\n",
      "     * [Selection Theory 1: Change of mean](day1/Slides/Day1cSelectionResp.pdf)\n",
      "     * [Selection Theory 2: Change of variance](day1/Slides/Day1dVariance.pdf)\n",
      " * Exercises\n",
      "     * [Exercise Instructions - Day 1](day1/Exercises/Day1Exercises.pdf)\n",
      "     * [Day 1 Answers](day1/Exercises/Day1Exercises_answers.pdf)\n",
      "     * [Exercise 2.1/3.1 Answers](day1/Exercises/Exercise 2.1_3.1_answers_1.xlsx)\n",
      "     * [2.2 Answers](day1/Exercises/Response_across_age groups_2.2_Answers.xls)"
     ]
    },
    {
     "cell_type": "markdown",
     "metadata": {},
     "source": [
      "* Day 2:\n",
      "\n",
      " * Notes\n",
      "     * [MT Selection](Day2/Notes/Day2a MT Selection.pdf)\n",
      "     * [MT Indexes Multistage Selection](Day2/Notes/Day2b MT indexes Multistage selection.pdf)\n",
      " * Slides\n",
      "     * [Multiple Trait Selection](Day2/Slides/Day2aMulti Trait.pdf)\n",
      "     * [Two-Stage Selection](Day2/Slides/Day2bMultipleStageSelection.pdf)\n",
      " * Exercise\n",
      "     * [Exercise Instructions - Day 2](Day2/Exercises/Day2Exercises.pdf)\n",
      "     * [2-stage selection example](Day2/Exercises/2-stage Selection_example.xls)\n",
      "     * [Pig 2-stage (Right click, \"save link as\" to download)](Day2/Exercises/Pig-2stage_ex.d2s)\n",
      "     * [Example](Day2/Exercises/Example_5.dot)"
     ]
    },
    {
     "cell_type": "markdown",
     "metadata": {},
     "source": [
      "* Day 3:\n",
      "\n",
      " * Notes\n",
      "    * [Overview of Breeding Programs](Day3/Notes/Day3a Overview of breeding programs_FINAL.pdf)\n",
      "    * [Inbreeding Notes](Day3/Notes/Day3b Inbreeding_notes.pdf)\n",
      "    * [BPDesign](Day3/Notes/Day3c BPDesign.pdf)\n",
      "    * [Cost Benefit](Day3/Notes/Day3e CostBenefitBrPro.pdf)\n",
      "    * [Market Share](Day3/Notes/day 3f Marketshare.pdf)\n",
      " * Slides\n",
      "     * [Design of Breeding programs \u2013 overview](Day3/Slides/Day3aDesignofBP.pdf)\n",
      "     * [Inbreeding](Day3/Slides/Day3b Inbreeding.pdf) \n",
      "     * [Optimal Contribution Selection](Day3/Slides/Day3cOCS.pdf)\n",
      "     * [Optimizing Breeding Program Design](Day3/Slides/Day3dOptBP.pdf)\n",
      "     * [Economic Evaluation of breeding programs](Day3/Slides/Day3eEvaluationBP.pdf)\n",
      "     * [Cost Benefit analysis in competitive markets](Day3/Slides/Day3f Marketshare.pdf)\n",
      " * Exercise\n",
      "     * [Exercise Instructions - Day 3](Day3/Exercises/Day3Exercises.pdf)\n",
      "     * [Inbreeding Prediction (Right click, \"save link as\" to download)](Day3/Exercises/Day 3Inbreeding prediction.d1s)\n",
      "     * [Day 3 Answers](Day3/Exercises/Day 3 exercises_answers.pdf)\n",
      "     * [Gene Flow](Day3/Exercises/GeneflowanddGv2.xlsx)"
     ]
    },
    {
     "cell_type": "markdown",
     "metadata": {},
     "source": [
      "* Day 4:\n",
      "\n",
      " * Notes\n",
      "    * [MAS GEBV index](Day4/Notes/Day4a MAS-GEBV index notes.pdf)\n",
      "    * [Genomic Control of Inbreeding](Day4/Notes/Day4b Genomic Control of Inbreeding.pdf)\n",
      " * Slides\n",
      "     * [Accuracy of genomic prediction](Day4/Slides/Day4aAccurcayofGP.pdf)\n",
      "     * [GBVs in Genetic Evaluation](Day4/Slides/Day4b GS selection index.pdf)\n",
      "     * [Genomic control of Inbreeding](Day4/Slides/Day4cGenomicControlInbreeding.pdf)\n",
      "     * [Genomic selection in crossbreeding programs](Day4/Slides/Day4d crosbreeding.pdf)\n",
      " * Exercise\n",
      "     * [Exercise Instructions - Day 4](Day4/Exercises/Day4Exercises.pdf)\n",
      "     * [Day4 Multi Trait GS (Right click, \"save link as\" to download)](Day4/Exercises/Day 4 Multi trait GS.d1s)\n",
      "     * [Day4 Single Trait GS (Right click, \"save link as\" to download)](Day4/Exercises/Day 4 Single trait GS.d1s)"
     ]
    },
    {
     "cell_type": "markdown",
     "metadata": {},
     "source": [
      "* Day 5:\n",
      "\n",
      " * Notes\n",
      "     * [Design of Sheep Population](Day5/Notes/Day5f Design of a sheepreference population for GS.pdf)\n",
      " * Slides\n",
      "     * [Cost-benefit of genomics in breeding programs](Day5/Slides/Day5aCostBenefitGS.pdf)\n",
      "     * [Design of reference populations](Day5/Slides/Day5bDesignofRefPop.pdf)\n",
      "     * [Imputation](Day5/Slides/Day5c Imputation pdf.pdf)\n",
      "     * [Dairy](Day5/Slides/Day5d Dairy.pdf)\n",
      "     * [Beef](Day5/Slides/Day5e Beef.pdf)\n",
      "     * [Pigs](Day5/Slides/Day5e pigs.pdf)\n",
      "     * [Poultry](Day5/Slides/Day5f Poultry.pdf)\n",
      "     * [Sheep](Day5/Slides/Day5cGSinSheep.pdf)\n",
      " * Exercise"
     ]
    },
    {
     "cell_type": "markdown",
     "metadata": {},
     "source": [
      "###Spreadsheets for Course\n",
      "[Spreadsheets](BPW2015_Spreadsheets.ipynb)"
     ]
    },
    {
     "cell_type": "markdown",
     "metadata": {},
     "source": [
      "### Software for Course\n",
      "[SelAction](http://www.wageningenur.nl/en/Expertise-Services/Chair-groups/Animal-Sciences/Animal-Breeding-and-Genetics-Group/Research/Software.htm)"
     ]
    }
   ],
   "metadata": {}
  }
 ]
}