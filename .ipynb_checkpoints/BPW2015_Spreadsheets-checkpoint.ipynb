{
 "metadata": {
  "language": "Julia",
  "name": "",
  "signature": "sha256:5f0c1208aedca51846607acdf1933527e02c2dc02d02c1dc731f6acaa903f066"
 },
 "nbformat": 3,
 "nbformat_minor": 0,
 "worksheets": [
  {
   "cells": [
    {
     "cell_type": "markdown",
     "metadata": {},
     "source": [
      "###Spreadsheets for Short Course with Dr. Jack Dekkers and Julius van der Werf\n",
      "\n",
      "\n",
      "Please click each spreadsheet individually in order to download them for use throughout the course."
     ]
    },
    {
     "cell_type": "markdown",
     "metadata": {},
     "source": [
      "* [2-trait MBV paramaeters](Spreadsheets/2-trait MBV parameters.xlsx)\n",
      "\n",
      "\n",
      "* [BLUP EBV](Spreadsheets/BLUP_EBV.XLS)\n",
      "\n",
      "\n",
      "* [Break Even Model](Spreadsheets/break-even model.xlsm)\n",
      "\n",
      "\n",
      "* [Building Blocks](Spreadsheets/Building blocks.xls)\n",
      "\n",
      "\n",
      "* [Bulmer](Spreadsheets/bulmer.xls)\n",
      "\n",
      "\n",
      "* [CrossBrGs](Spreadsheets/CrossBrGS.xls)\n",
      "\n",
      "\n",
      "* [Genetic Gain](Spreadsheets/Genetic_gain.xlsx)\n",
      "\n",
      "\n",
      "* [GenSel](Spreadsheets/GenSel.xlsm)\n",
      "\n",
      "\n",
      "* [GFlow](Spreadsheets/gflow.xlsx)\n",
      "\n",
      "\n",
      "* [GS Index Parameters](Spreadsheets/GS_index_parameters.xlsx)\n",
      "\n",
      "\n",
      "* [GS Accuracy](Spreadsheets/GS accuracy 2015.xlsx)\n",
      "\n",
      "\n",
      "* [Intensity Calculator](Spreadsheets/Intensity calculator.xls)\n",
      "\n",
      "\n",
      "* [Matrix Calculations](Spreadsheets/Matrix calculations using Excel.pdf)\n",
      "\n",
      "\n",
      "* [MNormRand](Spreadsheets/mnormrand.xls)\n",
      "\n",
      "\n",
      "* [MTGBV](Spreadsheets/MTGBV.xlsm)\n",
      "\n",
      "\n",
      "* [mtindex desgains](Spreadsheets/mtindex_desgains.xlsm)\n",
      "\n",
      "\n",
      "* [mtindex](Spreadsheets/mtindex.xlsm)\n",
      "\n",
      "\n",
      "* [mtindexEllipse](Spreadsheets/mtindexEllipse.xlsm)\n",
      "\n",
      "\n",
      "* [mtindexMBV](Spreadsheets/mtindexMBV.xls)\n",
      "\n",
      "\n",
      "* [Multrunc](Spreadsheets/Multrunc.xls)\n",
      "\n",
      "\n",
      "* [Selint](Spreadsheets/selint.xlsm)\n",
      "\n",
      "\n",
      "* [Simul2Stage](simul2stage.xls)\n",
      "\n",
      "\n",
      "* [STEBV Accuracy](Spreadsheets/STEBVaccuracy.xlsm)\n",
      "\n",
      "\n",
      "* [Truncsel](Spreadsheets/truncsel.xlsm)\n",
      "\n",
      "\n",
      "* [xGxAx](Spreadsheets/xGxAx.xlsm)"
     ]
    },
    {
     "cell_type": "markdown",
     "metadata": {},
     "source": [
      "####All spreadsheets in a zip folder (Updated as of 5/22/2015)\n",
      "* [Spreadsheets as ZIP](Spreadsheets.zip)"
     ]
    },
    {
     "cell_type": "markdown",
     "metadata": {},
     "source": [
      "###Return to home page:\n",
      "[Home](BPW2015.ipynb)"
     ]
    }
   ],
   "metadata": {}
  }
 ]
}