{
 "metadata": {
  "language": "Julia",
  "name": "",
  "signature": "sha256:edbe32b71c0e8bed0e0721bd622f34f5c13b46b646be0b9c40e5453818a2f4f5"
 },
 "nbformat": 3,
 "nbformat_minor": 0,
 "worksheets": [
  {
   "cells": [
    {
     "cell_type": "markdown",
     "metadata": {},
     "source": [
      "##Spreadsheets for Short Course with Dr. Jack Dekkers and Julius van der Werf\n",
      "\n",
      "\n",
      "Please click each spreadsheet individually in order to download them for use throughout the course."
     ]
    },
    {
     "cell_type": "markdown",
     "metadata": {},
     "source": [
      "* [2-trait MBV paramaeters](Spreadsheets/2-trait MBV parameters.xlsx)\n",
      "\n",
      "\n",
      "* [BLUP EBV](Spreadsheets/BLUP_EBV.XLS)\n",
      "\n",
      "\n",
      "* [Building Blocks](Spreadsheets/Building blocks.xls)\n",
      "\n",
      "\n",
      "* [Bulmer](Spreadsheets/bulmer.xls)\n",
      "\n",
      "\n",
      "* [GenSel](Spreadsheets/GenSel.xlsm)\n",
      "\n",
      "\n",
      "* [GFlow](Spreadsheets/gflow.xlsx)\n",
      "\n",
      "\n",
      "* [GS Index Parameters](Spreadsheets/GS_index_parameters.xlsx)\n",
      "\n",
      "\n",
      "* [GS Accuracy](Spreadsheets/GSaccuracy.xlsx)\n",
      "\n",
      "\n",
      "* [Intensity Calculator](Spreadsheets/Intensity calculator.xls)\n",
      "\n",
      "\n",
      "* [Matrix Calculations](Spreadsheets/Matrix calculations using Excel.pdf)\n",
      "\n",
      "\n",
      "* [MNormRand](Spreadsheets/mnormrand.xls)\n",
      "\n",
      "\n",
      "* [MTGBV](Spreadsheets/MTGBV.xlsm)\n",
      "\n",
      "\n",
      "* [mtindex desgains](Spreadsheets/mtindex_desgains.xlsm)\n",
      "\n",
      "\n",
      "* [mtindex](Spreadsheets/mtindex.xlsm)\n",
      "\n",
      "\n",
      "* [mtindexEllipse](Spreadsheets/mtindexEllipse.xlsm)\n",
      "\n",
      "\n",
      "* [mtindexMBV](Spreadsheets/mtindexMBV.xls)\n",
      "\n",
      "\n",
      "* [Multrunc](Spreadsheets/Multrunc.xls)\n",
      "\n",
      "\n",
      "* [Selint](Spreadsheets/selint.xlsm)\n",
      "\n",
      "\n",
      "* [STEBV Accuracy](Spreadsheets/STEBVaccuracy.xlsm)\n",
      "\n",
      "\n",
      "* [Truncsel](Spreadsheets/truncsel.xlsm)\n",
      "\n",
      "\n",
      "* [xGxAx](Spreadsheets/xGxAx.xlsm)"
     ]
    },
    {
     "cell_type": "markdown",
     "metadata": {},
     "source": [
      "Return to home page:\n",
      "[Home](BPW2015.ipynb)"
     ]
    }
   ],
   "metadata": {}
  }
 ]
}