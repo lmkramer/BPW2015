{
 "metadata": {
  "kernelspec": {
   "display_name": "Julia 0.3.7",
   "language": "julia",
   "name": "julia 0.3"
  },
  "language": "Julia",
  "language_info": {
   "name": "julia",
   "version": "0.3.7"
  },
  "name": "",
  "signature": "sha256:fc0a849173fe9c346518aab902bdc8e3a2fa9e572afe79fdf4a7cdbc2b0c854f"
 },
 "nbformat": 3,
 "nbformat_minor": 0,
 "worksheets": [
  {
   "cells": [
    {
     "cell_type": "markdown",
     "metadata": {},
     "source": [
      "##Course 2\n",
      "\n",
      "###Design of Breeding Programs with Genomic Selection\n",
      "\n",
      "###May 18-22, 2015\n",
      "\n",
      "###Course Instructor:\n",
      "* Julius van der Werf\n",
      "* Jack Dekkers\n",
      "\n",
      "###Topics Covered:\n",
      "*   Factors affecting and prediction of single and multi-trait response to selection\n",
      "*\tIncorporating genomic information in response predictions.\n",
      "*\tInbreeding with and without genomic information.\n",
      "*\tDesign of breeding programs to exploit the use of genomic information, including the design of phenotyping strategies.\n",
      "\n",
      "*   [Overview](WebProgram Iowa2015.docx)\n",
      "\n",
      "\n",
      "###Prerequisites:        \n",
      "* Graduate-level course in quantitative genetics.\n",
      "* Graduate-level course in statistics."
     ]
    },
    {
     "cell_type": "markdown",
     "metadata": {},
     "source": [
      "###Materials:\n",
      "#### Notes:"
     ]
    },
    {
     "cell_type": "markdown",
     "metadata": {},
     "source": [
      "* Day 1:\n",
      "\n",
      " * Notes\n",
      "     * [test](test)\n",
      "     \n",
      " * Slides\n",
      "     * [Building Blocks of Quantitative Genetics](day1/Slides/Day1aBuildingBlocks.pdf)\n",
      "     * [Improving Selection Accuracy, BLUP selection](day1/Slides/Day1bEBVacc.pdf)\n",
      "     * [Selection Theory 1: Change of mean](day1/Slides/Day1cSelectionResp.pdf)\n",
      "     * [Selection Theory 2: Change of variance](day1/Slides/Day1dVariance.pdf)\n",
      " * [Exercise](day1/SimulationJulia.pdf)"
     ]
    },
    {
     "cell_type": "markdown",
     "metadata": {},
     "source": [
      "* Day 2:\n",
      "\n",
      " * [Notes](day2/Introduction.pdf)\n",
      " * Slides\n",
      "     * [Multiple Trait Selection](Day#/Slides/Day2aMultiTrait.pdf)\n",
      "     * [Two-Stage Selection](Day#/Slides/Day2bMultipleStageSelection.pdf)\n",
      " * [Exercise](day2/SimulationJulia.pdf)"
     ]
    },
    {
     "cell_type": "markdown",
     "metadata": {},
     "source": [
      "* Day 3:\n",
      "\n",
      " * [Notes](day3/Introduction.pdf)\n",
      " * Slides\n",
      "     * [Design of Breeding programs \u2013 overview](Day#/Slides/Day3a DesignofBP.pdf)\n",
      "     * [Inbreeding](Day#/Slides/Day3b Inbreeding.pdf) \n",
      "     * [Optimal Contribution Selection](Day#/Slides/Day3c OCS.pdf)\n",
      "     * [Optimizing Breeding Program Design](Day#/Slides/Day3d OptBP.pdf)\n",
      "     * [Economic Evaluation of breeding programs](Day#/Slides/Day3e EvaluationBP.pdf)\n",
      "     * [Cost Benefit analysis in competitive markets](Day#/Slides/Day3f Marketshare.pdf)\n",
      " * [Exercise](day3/SimulationJulia.pdf)"
     ]
    },
    {
     "cell_type": "markdown",
     "metadata": {},
     "source": [
      "* Day 4:\n",
      "\n",
      " * [Notes](day4/Introduction.pdf)\n",
      " * Slides\n",
      "     * [Accuracy of genomic prediction](Day#/Slides/Day4aAccuracyofGP.pdf)\n",
      "     * [GBVs in Genetic Evaluation](Day#/Slides/Day4b GS selection index.pdf)\n",
      "     * [Genomic control of Inbreeding](Day#/Slides/Day4c GenomicControlInbreeding.pdf)\n",
      "     * [Genomic selection in crossbreeding programs](Day#/Slides/Day4d crossbreeding.pdf)\n",
      " * [Exercise](day4/SimulationJulia.pdf)"
     ]
    },
    {
     "cell_type": "markdown",
     "metadata": {},
     "source": [
      "* Day 5:\n",
      "\n",
      " * [Notes](day5/Introduction.pdf)\n",
      " * Slides\n",
      "     * [Cost-benefit of genomics in breeding programs](Day#/Slides/Day5a CostBenefitGS.pdf)\n",
      "     * [Design of reference populations](Day#/Slides/Day5b DesignofRefPop.pdf)\n",
      "     * [Use of Genomic Selection in Sheep](Day#/Slides/Day5h GSinSheep.pdf)\n",
      " * [Exercise](day5/SimulationJulia.pdf)"
     ]
    }
   ],
   "metadata": {}
  }
 ]
}