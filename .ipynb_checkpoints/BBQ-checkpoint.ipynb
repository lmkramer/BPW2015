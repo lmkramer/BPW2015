{
 "metadata": {
  "language": "Julia",
  "name": "",
  "signature": "sha256:0442533ded15e218038056bfe280192d885d49d508d3daa4e0dd1bbdfdc8dffd"
 },
 "nbformat": 3,
 "nbformat_minor": 0,
 "worksheets": [
  {
   "cells": [
    {
     "cell_type": "markdown",
     "metadata": {},
     "source": [
      "<img src=\"https://github.com/lmkramer/BPW2015/blob/master/Images/DSC_4051.JPG?raw=true\" width=\"1000\" height=\"500\" />"
     ]
    },
    {
     "cell_type": "markdown",
     "metadata": {},
     "source": [
      "<img src=\"https://github.com/lmkramer/BPW2015/blob/master/Images/DSC_4028.JPG?raw=true\" width=\"1000\" height=\"500\" />"
     ]
    },
    {
     "cell_type": "markdown",
     "metadata": {},
     "source": [
      "<img src=\"https://github.com/lmkramer/BPW2015/blob/master/Images/DSC_4055.JPG?raw=true\" width=\"1000\" height=\"500\" />"
     ]
    },
    {
     "cell_type": "markdown",
     "metadata": {},
     "source": [
      "[Return](BPW2015.ipynb)"
     ]
    }
   ],
   "metadata": {}
  }
 ]
}