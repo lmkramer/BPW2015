{
 "metadata": {
  "language": "Julia",
  "name": "",
  "signature": "sha256:ed84feced5ca07e7f2cf0f8eaa995639f2af8dfa9803418f186c3892b48e0451"
 },
 "nbformat": 3,
 "nbformat_minor": 0,
 "worksheets": [
  {
   "cells": [
    {
     "cell_type": "markdown",
     "metadata": {},
     "source": [
      "<img src=\"https://github.com/lmkramer/BPW2015/blob/master/Images/DSC_4051.JPG?raw=true\" width=\"1000\" height=\"500\" />"
     ]
    },
    {
     "cell_type": "markdown",
     "metadata": {},
     "source": [
      "<img src=\"https://github.com/lmkramer/BPW2015/blob/master/Images/DSC_4028.JPG?raw=true\" width=\"1000\" height=\"500\" />"
     ]
    },
    {
     "cell_type": "markdown",
     "metadata": {},
     "source": [
      "<img src=\"https://github.com/lmkramer/BPW2015/blob/master/Images/DSC_4055.JPG?raw=true\" width=\"1000\" height=\"500\" />"
     ]
    },
    {
     "cell_type": "markdown",
     "metadata": {},
     "source": [
      "<img src=\"https://github.com/lmkramer/BPW2015/blob/master/Images/DSC_4017.JPG?raw=true\" width=\"1000\" height=\"500\" />"
     ]
    },
    {
     "cell_type": "markdown",
     "metadata": {},
     "source": [
      "<img src=\"https://github.com/lmkramer/BPW2015/blob/master/Images/DSC_4019.JPG?raw=true\" width=\"1000\" height=\"500\" />"
     ]
    },
    {
     "cell_type": "markdown",
     "metadata": {},
     "source": [
      "<img src=\"https://github.com/lmkramer/BPW2015/blob/master/Images/DSC_4020.JPG?raw=true\" width=\"1000\" height=\"500\" />"
     ]
    },
    {
     "cell_type": "markdown",
     "metadata": {},
     "source": [
      "<img src=\"https://github.com/lmkramer/BPW2015/blob/master/Images/DSC_4035.JPG?raw=true\" width=\"1000\" height=\"500\" />"
     ]
    },
    {
     "cell_type": "markdown",
     "metadata": {},
     "source": [
      "<img src=\"https://github.com/lmkramer/BPW2015/blob/master/Images/DSC_4038.JPG?raw=true\" width=\"1000\" height=\"500\" />"
     ]
    },
    {
     "cell_type": "markdown",
     "metadata": {},
     "source": [
      "<img src=\"https://github.com/lmkramer/BPW2015/blob/master/Images/DSC_4039.JPG?raw=true\" width=\"1000\" height=\"500\" />"
     ]
    },
    {
     "cell_type": "markdown",
     "metadata": {},
     "source": [
      "<img src=\"https://github.com/lmkramer/BPW2015/blob/master/Images/DSC_4025.JPG?raw=true\" width=\"1000\" height=\"500\" />"
     ]
    },
    {
     "cell_type": "markdown",
     "metadata": {},
     "source": [
      "[Return](BPW2015.ipynb)"
     ]
    }
   ],
   "metadata": {}
  }
 ]
}