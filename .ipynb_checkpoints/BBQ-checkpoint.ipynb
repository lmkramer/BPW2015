{
 "metadata": {
  "language": "Julia",
  "name": "",
  "signature": "sha256:0fd3def2bdd4fb29538525174d0237fd6bdfd00e83f13534944cf520b3bb8067"
 },
 "nbformat": 3,
 "nbformat_minor": 0,
 "worksheets": [
  {
   "cells": [
    {
     "cell_type": "markdown",
     "metadata": {},
     "source": [
      "<img src=\"https://github.com/lmkramer/BPW2015/blob/master/Images/DSC_4051.JPG?raw=true\" width=\"1000\" height=\"500\" />"
     ]
    },
    {
     "cell_type": "markdown",
     "metadata": {},
     "source": [
      "<img src=\"https://github.com/lmkramer/BPW2015/blob/master/Images/DSC_4028.JPG?raw=true\" width=\"1000\" height=\"500\" />"
     ]
    },
    {
     "cell_type": "markdown",
     "metadata": {},
     "source": [
      "<img src=\"https://github.com/lmkramer/BPW2015/blob/master/Images/DSC_4055.JPG?raw=true\" width=\"1000\" height=\"500\" />"
     ]
    },
    {
     "cell_type": "markdown",
     "metadata": {},
     "source": [
      "<img src=\"https://github.com/lmkramer/BPW2015/blob/master/Images/DSC_4017.JPG?raw=true\" width=\"1000\" height=\"500\" />"
     ]
    },
    {
     "cell_type": "markdown",
     "metadata": {},
     "source": [
      "<img src=\"https://github.com/lmkramer/BPW2015/blob/master/Images/DSC_4019.JPG?raw=true\" width=\"1000\" height=\"500\" />"
     ]
    },
    {
     "cell_type": "markdown",
     "metadata": {},
     "source": [
      "<img src=\"https://github.com/lmkramer/BPW2015/blob/master/Images/DSC_4020.JPG?raw=true\" width=\"1000\" height=\"500\" />"
     ]
    },
    {
     "cell_type": "markdown",
     "metadata": {},
     "source": [
      "<img src=\"https://github.com/lmkramer/BPW2015/blob/master/Images/DSC_4035.JPG?raw=true\" width=\"1000\" height=\"500\" />"
     ]
    },
    {
     "cell_type": "markdown",
     "metadata": {},
     "source": [
      "<img src=\"https://github.com/lmkramer/BPW2015/blob/master/Images/DSC_4038.JPG?raw=true\" width=\"1000\" height=\"500\" />"
     ]
    },
    {
     "cell_type": "markdown",
     "metadata": {},
     "source": [
      "<img src=\"https://github.com/lmkramer/BPW2015/blob/master/Images/DSC_4039.JPG?raw=true\" width=\"1000\" height=\"500\" />"
     ]
    },
    {
     "cell_type": "markdown",
     "metadata": {},
     "source": [
      "[Return](BPW2015.ipynb)"
     ]
    }
   ],
   "metadata": {}
  }
 ]
}